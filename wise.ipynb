{
 "cells": [
  {
   "cell_type": "markdown",
   "metadata": {},
   "source": [
    "# Introduction\n",
    "\n",
    "This notebook demonstrates the Wise Platform **Quote - Recipient - Transfer - Found** flow via Wise Platofrm API. \n",
    "\n",
    "To begin obtain your API key for the Wise Sandbox environment at [https://sandbox.transferwise.tech/home](https://sandbox.transferwise.tech/home). \n",
    "Navigate to **Your account** -> **Integrations and tools** -> **API tokens** to generate or retrieve your API key.\n",
    "\n",
    "Ensure that the API key is stored securely and is not exposed in public repositories or shared with unauthorized individuals."
   ]
  },
  {
   "cell_type": "code",
   "execution_count": 1,
   "metadata": {},
   "outputs": [],
   "source": [
    "# Wise API Key\n",
    "api_key = \"your_wise_api_key\""
   ]
  },
  {
   "cell_type": "markdown",
   "metadata": {},
   "source": [
    "# Wise Client\n",
    "\n",
    "Wise Client is a utility designed to streamline the process of sending and receiving API messages to and from the Wise Platform API. "
   ]
  },
  {
   "cell_type": "code",
   "execution_count": 13,
   "metadata": {},
   "outputs": [],
   "source": [
    "import pandas as pd\n",
    "pd.set_option('display.max_rows', None)\n",
    "\n",
    "import requests\n",
    "\n",
    "# Wise API Client\n",
    "class WiseAPI:\n",
    "  BASE_URL = \"https://api.sandbox.transferwise.tech\"\n",
    "  def __init__(self, api_key):\n",
    "    self.api_key = api_key\n",
    "    self.headers = {\"Authorization\": f\"Bearer {self.api_key}\"}\n",
    "\n",
    "  def get(self, endpoint):\n",
    "    url = f\"{self.BASE_URL}/{endpoint}\"\n",
    "    response = requests.get(url, headers=self.headers)\n",
    "    response.raise_for_status()\n",
    "    return response.json()\n",
    "\n",
    "  def post(self, endpoint, payload):\n",
    "    url = f\"{self.BASE_URL}/{endpoint}\"\n",
    "    response = requests.post(url, json=payload, headers=self.headers)\n",
    "    response.raise_for_status()\n",
    "    return response.json()\n",
    "\n",
    "wise= WiseAPI(api_key)"
   ]
  },
  {
   "cell_type": "markdown",
   "metadata": {},
   "source": [
    "# Step 1: Get user profile\n",
    "\n",
    "Profiles are connected to a User account and are either personal or business.\n",
    "> https://docs.wise.com/api-docs/api-reference/profile"
   ]
  },
  {
   "cell_type": "code",
   "execution_count": null,
   "metadata": {},
   "outputs": [],
   "source": [
    "profiles = wise.get(endpoint = \"/v2/profiles\")\n",
    "profiles_df = pd.json_normalize(profiles)\n",
    "profiles_df.T"
   ]
  },
  {
   "cell_type": "markdown",
   "metadata": {},
   "source": [
    "# Step 2: Create a quote\n",
    "\n",
    "The quote resource defines the basic information required for a Wise transfer - the currencies to send between, the amount to send and the profile who is sending the money. The profile must be included when creating a quote.\n",
    "\n",
    "> https://docs.wise.com/api-docs/api-reference/quote"
   ]
  },
  {
   "cell_type": "code",
   "execution_count": null,
   "metadata": {},
   "outputs": [],
   "source": [
    "profile_id = profiles_df['id'][0]\n",
    "quote = wise.post(endpoint = f\"/v3/profiles/{profile_id}/quotes\", payload = {\n",
    "      \"sourceCurrency\": \"USD\",\n",
    "      \"targetCurrency\": \"GBP\",\n",
    "      \"sourceAmount\": 100,\n",
    "      \"targetAmount\": None,\n",
    "      \"targetAccount\": None,\n",
    "      \"preferredPayIn\": \"BALANCE\"\n",
    "    })\n",
    "quote_df = pd.json_normalize(quote)\n",
    "quote_df.T"
   ]
  },
  {
   "cell_type": "markdown",
   "metadata": {},
   "source": [
    "### List Payment Options"
   ]
  },
  {
   "cell_type": "code",
   "execution_count": null,
   "metadata": {},
   "outputs": [],
   "source": [
    "df = pd.json_normalize(quote_df['paymentOptions'][0])\n",
    "df"
   ]
  },
  {
   "cell_type": "markdown",
   "metadata": {},
   "source": [
    "# Step 3: Create a Recipient Account\n",
    "\n",
    "Recipient or beneficiary is the one who will receive the funds.\n",
    "\n",
    "> https://docs.wise.com/api-docs/api-reference/recipient"
   ]
  },
  {
   "cell_type": "code",
   "execution_count": null,
   "metadata": {},
   "outputs": [],
   "source": [
    "recipient = wise.post(endpoint = f\"/v1/accounts\", payload = {\n",
    "          \"currency\": \"GBP\",\n",
    "          \"type\": \"sort_code\",\n",
    "          \"profile\": str(profile_id),\n",
    "          \"ownedByCustomer\": True,\n",
    "          \"accountHolderName\": \"John Doe\",\n",
    "           \"details\": {\n",
    "              \"legalType\": \"PRIVATE\",\n",
    "              \"sortCode\": \"040075\",\n",
    "              \"accountNumber\": \"37778842\",\n",
    "              \"dateOfBirth\": \"1961-01-01\"\n",
    "           }\n",
    "         })\n",
    "\n",
    "recipient_df = pd.json_normalize(recipient)\n",
    "recipient_df.T"
   ]
  },
  {
   "cell_type": "markdown",
   "metadata": {},
   "source": [
    "# Step 4: Create a transfer\n",
    "\n",
    "A transfer is a payment order to recipient account based on a quote.\n",
    "> https://docs.wise.com/api-docs/api-reference/transfer"
   ]
  },
  {
   "cell_type": "code",
   "execution_count": null,
   "metadata": {},
   "outputs": [],
   "source": [
    "import uuid\n",
    "\n",
    "transfer = wise.post(endpoint = f\"/v1/transfers\", payload = {\n",
    "      \"targetAccount\": recipient['id'],\n",
    "      \"quoteUuid\": quote['id'],\n",
    "      \"customerTransactionId\": str(uuid.uuid4()),\n",
    "    })\n",
    "\n",
    "transfer_df = pd.json_normalize(transfer)\n",
    "transfer_df.T"
   ]
  },
  {
   "cell_type": "markdown",
   "metadata": {},
   "source": [
    "# Step 5: Fund the transfer\n",
    "\n",
    "This is the final step for executing payouts when using a balance with Wise. Upon calling the endpoint, Wise will begin the processing of the transfer, depending on the status of funds.\n",
    "\n",
    "> https://docs.wise.com/api-docs/api-reference/transfer#fund"
   ]
  },
  {
   "cell_type": "code",
   "execution_count": null,
   "metadata": {},
   "outputs": [],
   "source": [
    "funding = wise.post(endpoint = f\"/v3/profiles/{profile_id}/transfers/{transfer['id']}/payments\", payload = {   \n",
    "    \"type\":\"BALANCE\"\n",
    "  })\n",
    "funding_df = pd.json_normalize(funding)\n",
    "funding_df.T\n"
   ]
  }
 ],
 "metadata": {
  "kernelspec": {
   "display_name": "base",
   "language": "python",
   "name": "python3"
  },
  "language_info": {
   "codemirror_mode": {
    "name": "ipython",
    "version": 3
   },
   "file_extension": ".py",
   "mimetype": "text/x-python",
   "name": "python",
   "nbconvert_exporter": "python",
   "pygments_lexer": "ipython3",
   "version": "3.9.12"
  }
 },
 "nbformat": 4,
 "nbformat_minor": 2
}
